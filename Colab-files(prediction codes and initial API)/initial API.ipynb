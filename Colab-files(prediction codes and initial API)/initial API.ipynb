{
  "nbformat": 4,
  "nbformat_minor": 0,
  "metadata": {
    "colab": {
      "name": "Untitled11.ipynb",
      "provenance": []
    },
    "kernelspec": {
      "display_name": "Python 3",
      "name": "python3"
    }
  },
  "cells": [
    {
      "cell_type": "code",
      "metadata": {
        "id": "RF85BGh_Fdda"
      },
      "source": [
        "import pickle\n",
        "from sklearn.svm import SVR\n",
        "from sklearn.pipeline import make_pipeline\n",
        "from sklearn.preprocessing import StandardScaler\n",
        "from sklearn.ensemble import RandomForestClassifier\n",
        "from sklearn.ensemble import RandomForestRegressor\n",
        "import numpy as np\n",
        "import pandas as pd\n",
        "def predict_total(model,dicti):\n",
        "  return model.predict(pd.DataFrame(dicti,index=[0]))[0]"
      ],
      "execution_count": null,
      "outputs": []
    },
    {
      "cell_type": "code",
      "metadata": {
        "id": "GeJoHc2BLYnb"
      },
      "source": [
        "import pandas as pd\n",
        "import numpy as np\n",
        "import matplotlib.pyplot as plt\n",
        "import seaborn as sns\n",
        "from collections import Counter\n",
        "\n",
        "%matplotlib inline\n",
        "from sklearn.linear_model import LinearRegression,LassoCV, Ridge, LassoLarsCV,ElasticNetCV\n",
        "from sklearn.model_selection import GridSearchCV, cross_val_score, learning_curve\n",
        "from sklearn.ensemble import RandomForestRegressor, AdaBoostRegressor, ExtraTreesRegressor, GradientBoostingRegressor\n",
        "from sklearn.preprocessing import StandardScaler, Normalizer, RobustScaler\n",
        "import xgboost as xgb\n",
        "import lightgbm as lgb\n",
        "import pandas as pd\n",
        "import numpy as np\n",
        "import matplotlib as plt\n",
        "from sklearn.model_selection import train_test_split \n",
        "from xgboost import plot_importance\n",
        "import xgboost\n",
        "from sklearn.metrics import mean_squared_error as MSE \n",
        "from sklearn.svm import SVR\n",
        "from sklearn.pipeline import make_pipeline\n",
        "from sklearn.preprocessing import StandardScaler\n",
        "from sklearn.ensemble import RandomForestClassifier\n",
        "from sklearn.metrics import confusion_matrix "
      ],
      "execution_count": null,
      "outputs": []
    },
    {
      "cell_type": "code",
      "metadata": {
        "colab": {
          "base_uri": "https://localhost:8080/",
          "height": 303
        },
        "id": "WB0uot4sJ6tn",
        "outputId": "388f0259-6a42-4ddf-fbab-656ce546970b"
      },
      "source": [
        "pd.DataFrame.from_dict(di)"
      ],
      "execution_count": null,
      "outputs": [
        {
          "output_type": "error",
          "ename": "ValueError",
          "evalue": "ignored",
          "traceback": [
            "\u001b[0;31m---------------------------------------------------------------------------\u001b[0m",
            "\u001b[0;31mValueError\u001b[0m                                Traceback (most recent call last)",
            "\u001b[0;32m<ipython-input-11-65753cb2b7e5>\u001b[0m in \u001b[0;36m<module>\u001b[0;34m()\u001b[0m\n\u001b[0;32m----> 1\u001b[0;31m \u001b[0mpd\u001b[0m\u001b[0;34m.\u001b[0m\u001b[0mDataFrame\u001b[0m\u001b[0;34m.\u001b[0m\u001b[0mfrom_dict\u001b[0m\u001b[0;34m(\u001b[0m\u001b[0mdi\u001b[0m\u001b[0;34m)\u001b[0m\u001b[0;34m\u001b[0m\u001b[0;34m\u001b[0m\u001b[0m\n\u001b[0m",
            "\u001b[0;32m/usr/local/lib/python3.6/dist-packages/pandas/core/frame.py\u001b[0m in \u001b[0;36mfrom_dict\u001b[0;34m(cls, data, orient, dtype, columns)\u001b[0m\n\u001b[1;32m   1307\u001b[0m             \u001b[0;32mraise\u001b[0m \u001b[0mValueError\u001b[0m\u001b[0;34m(\u001b[0m\u001b[0;34m\"only recognize index or columns for orient\"\u001b[0m\u001b[0;34m)\u001b[0m\u001b[0;34m\u001b[0m\u001b[0;34m\u001b[0m\u001b[0m\n\u001b[1;32m   1308\u001b[0m \u001b[0;34m\u001b[0m\u001b[0m\n\u001b[0;32m-> 1309\u001b[0;31m         \u001b[0;32mreturn\u001b[0m \u001b[0mcls\u001b[0m\u001b[0;34m(\u001b[0m\u001b[0mdata\u001b[0m\u001b[0;34m,\u001b[0m \u001b[0mindex\u001b[0m\u001b[0;34m=\u001b[0m\u001b[0mindex\u001b[0m\u001b[0;34m,\u001b[0m \u001b[0mcolumns\u001b[0m\u001b[0;34m=\u001b[0m\u001b[0mcolumns\u001b[0m\u001b[0;34m,\u001b[0m \u001b[0mdtype\u001b[0m\u001b[0;34m=\u001b[0m\u001b[0mdtype\u001b[0m\u001b[0;34m)\u001b[0m\u001b[0;34m\u001b[0m\u001b[0;34m\u001b[0m\u001b[0m\n\u001b[0m\u001b[1;32m   1310\u001b[0m \u001b[0;34m\u001b[0m\u001b[0m\n\u001b[1;32m   1311\u001b[0m     def to_numpy(\n",
            "\u001b[0;32m/usr/local/lib/python3.6/dist-packages/pandas/core/frame.py\u001b[0m in \u001b[0;36m__init__\u001b[0;34m(self, data, index, columns, dtype, copy)\u001b[0m\n\u001b[1;32m    466\u001b[0m \u001b[0;34m\u001b[0m\u001b[0m\n\u001b[1;32m    467\u001b[0m         \u001b[0;32melif\u001b[0m \u001b[0misinstance\u001b[0m\u001b[0;34m(\u001b[0m\u001b[0mdata\u001b[0m\u001b[0;34m,\u001b[0m \u001b[0mdict\u001b[0m\u001b[0;34m)\u001b[0m\u001b[0;34m:\u001b[0m\u001b[0;34m\u001b[0m\u001b[0;34m\u001b[0m\u001b[0m\n\u001b[0;32m--> 468\u001b[0;31m             \u001b[0mmgr\u001b[0m \u001b[0;34m=\u001b[0m \u001b[0minit_dict\u001b[0m\u001b[0;34m(\u001b[0m\u001b[0mdata\u001b[0m\u001b[0;34m,\u001b[0m \u001b[0mindex\u001b[0m\u001b[0;34m,\u001b[0m \u001b[0mcolumns\u001b[0m\u001b[0;34m,\u001b[0m \u001b[0mdtype\u001b[0m\u001b[0;34m=\u001b[0m\u001b[0mdtype\u001b[0m\u001b[0;34m)\u001b[0m\u001b[0;34m\u001b[0m\u001b[0;34m\u001b[0m\u001b[0m\n\u001b[0m\u001b[1;32m    469\u001b[0m         \u001b[0;32melif\u001b[0m \u001b[0misinstance\u001b[0m\u001b[0;34m(\u001b[0m\u001b[0mdata\u001b[0m\u001b[0;34m,\u001b[0m \u001b[0mma\u001b[0m\u001b[0;34m.\u001b[0m\u001b[0mMaskedArray\u001b[0m\u001b[0;34m)\u001b[0m\u001b[0;34m:\u001b[0m\u001b[0;34m\u001b[0m\u001b[0;34m\u001b[0m\u001b[0m\n\u001b[1;32m    470\u001b[0m             \u001b[0;32mimport\u001b[0m \u001b[0mnumpy\u001b[0m\u001b[0;34m.\u001b[0m\u001b[0mma\u001b[0m\u001b[0;34m.\u001b[0m\u001b[0mmrecords\u001b[0m \u001b[0;32mas\u001b[0m \u001b[0mmrecords\u001b[0m\u001b[0;34m\u001b[0m\u001b[0;34m\u001b[0m\u001b[0m\n",
            "\u001b[0;32m/usr/local/lib/python3.6/dist-packages/pandas/core/internals/construction.py\u001b[0m in \u001b[0;36minit_dict\u001b[0;34m(data, index, columns, dtype)\u001b[0m\n\u001b[1;32m    281\u001b[0m             \u001b[0marr\u001b[0m \u001b[0;32mif\u001b[0m \u001b[0;32mnot\u001b[0m \u001b[0mis_datetime64tz_dtype\u001b[0m\u001b[0;34m(\u001b[0m\u001b[0marr\u001b[0m\u001b[0;34m)\u001b[0m \u001b[0;32melse\u001b[0m \u001b[0marr\u001b[0m\u001b[0;34m.\u001b[0m\u001b[0mcopy\u001b[0m\u001b[0;34m(\u001b[0m\u001b[0;34m)\u001b[0m \u001b[0;32mfor\u001b[0m \u001b[0marr\u001b[0m \u001b[0;32min\u001b[0m \u001b[0marrays\u001b[0m\u001b[0;34m\u001b[0m\u001b[0;34m\u001b[0m\u001b[0m\n\u001b[1;32m    282\u001b[0m         ]\n\u001b[0;32m--> 283\u001b[0;31m     \u001b[0;32mreturn\u001b[0m \u001b[0marrays_to_mgr\u001b[0m\u001b[0;34m(\u001b[0m\u001b[0marrays\u001b[0m\u001b[0;34m,\u001b[0m \u001b[0mdata_names\u001b[0m\u001b[0;34m,\u001b[0m \u001b[0mindex\u001b[0m\u001b[0;34m,\u001b[0m \u001b[0mcolumns\u001b[0m\u001b[0;34m,\u001b[0m \u001b[0mdtype\u001b[0m\u001b[0;34m=\u001b[0m\u001b[0mdtype\u001b[0m\u001b[0;34m)\u001b[0m\u001b[0;34m\u001b[0m\u001b[0;34m\u001b[0m\u001b[0m\n\u001b[0m\u001b[1;32m    284\u001b[0m \u001b[0;34m\u001b[0m\u001b[0m\n\u001b[1;32m    285\u001b[0m \u001b[0;34m\u001b[0m\u001b[0m\n",
            "\u001b[0;32m/usr/local/lib/python3.6/dist-packages/pandas/core/internals/construction.py\u001b[0m in \u001b[0;36marrays_to_mgr\u001b[0;34m(arrays, arr_names, index, columns, dtype, verify_integrity)\u001b[0m\n\u001b[1;32m     76\u001b[0m         \u001b[0;31m# figure out the index, if necessary\u001b[0m\u001b[0;34m\u001b[0m\u001b[0;34m\u001b[0m\u001b[0;34m\u001b[0m\u001b[0m\n\u001b[1;32m     77\u001b[0m         \u001b[0;32mif\u001b[0m \u001b[0mindex\u001b[0m \u001b[0;32mis\u001b[0m \u001b[0;32mNone\u001b[0m\u001b[0;34m:\u001b[0m\u001b[0;34m\u001b[0m\u001b[0;34m\u001b[0m\u001b[0m\n\u001b[0;32m---> 78\u001b[0;31m             \u001b[0mindex\u001b[0m \u001b[0;34m=\u001b[0m \u001b[0mextract_index\u001b[0m\u001b[0;34m(\u001b[0m\u001b[0marrays\u001b[0m\u001b[0;34m)\u001b[0m\u001b[0;34m\u001b[0m\u001b[0;34m\u001b[0m\u001b[0m\n\u001b[0m\u001b[1;32m     79\u001b[0m         \u001b[0;32melse\u001b[0m\u001b[0;34m:\u001b[0m\u001b[0;34m\u001b[0m\u001b[0;34m\u001b[0m\u001b[0m\n\u001b[1;32m     80\u001b[0m             \u001b[0mindex\u001b[0m \u001b[0;34m=\u001b[0m \u001b[0mensure_index\u001b[0m\u001b[0;34m(\u001b[0m\u001b[0mindex\u001b[0m\u001b[0;34m)\u001b[0m\u001b[0;34m\u001b[0m\u001b[0;34m\u001b[0m\u001b[0m\n",
            "\u001b[0;32m/usr/local/lib/python3.6/dist-packages/pandas/core/internals/construction.py\u001b[0m in \u001b[0;36mextract_index\u001b[0;34m(data)\u001b[0m\n\u001b[1;32m    385\u001b[0m \u001b[0;34m\u001b[0m\u001b[0m\n\u001b[1;32m    386\u001b[0m         \u001b[0;32mif\u001b[0m \u001b[0;32mnot\u001b[0m \u001b[0mindexes\u001b[0m \u001b[0;32mand\u001b[0m \u001b[0;32mnot\u001b[0m \u001b[0mraw_lengths\u001b[0m\u001b[0;34m:\u001b[0m\u001b[0;34m\u001b[0m\u001b[0;34m\u001b[0m\u001b[0m\n\u001b[0;32m--> 387\u001b[0;31m             \u001b[0;32mraise\u001b[0m \u001b[0mValueError\u001b[0m\u001b[0;34m(\u001b[0m\u001b[0;34m\"If using all scalar values, you must pass an index\"\u001b[0m\u001b[0;34m)\u001b[0m\u001b[0;34m\u001b[0m\u001b[0;34m\u001b[0m\u001b[0m\n\u001b[0m\u001b[1;32m    388\u001b[0m \u001b[0;34m\u001b[0m\u001b[0m\n\u001b[1;32m    389\u001b[0m         \u001b[0;32mif\u001b[0m \u001b[0mhave_series\u001b[0m\u001b[0;34m:\u001b[0m\u001b[0;34m\u001b[0m\u001b[0;34m\u001b[0m\u001b[0m\n",
            "\u001b[0;31mValueError\u001b[0m: If using all scalar values, you must pass an index"
          ]
        }
      ]
    },
    {
      "cell_type": "code",
      "metadata": {
        "colab": {
          "base_uri": "https://localhost:8080/"
        },
        "id": "GPuU3DhPFlQj",
        "outputId": "7ecc69e0-1b54-4cda-c9d5-72ef762fd99a"
      },
      "source": [
        "pickle_off = open(\"predict_payer.pkl\",\"rb\")\n",
        "model = pickle.load(pickle_off)\n",
        "predict_total(model,di)"
      ],
      "execution_count": null,
      "outputs": [
        {
          "output_type": "execute_result",
          "data": {
            "text/plain": [
              "231.5169991342574"
            ]
          },
          "metadata": {
            "tags": []
          },
          "execution_count": 25
        }
      ]
    },
    {
      "cell_type": "code",
      "metadata": {
        "id": "X5Zo31O4GvQ-"
      },
      "source": [
        "di={'AGE': 11.046575342465754,\n",
        " 'LAT': 42.44244784588782,\n",
        " 'LON': -71.06719902923557,\n",
        " 'ethnicity_hispanic': 0.0,\n",
        " 'ethnicity_nonhispanic': 1.0,\n",
        " 'gender_F': 1.0,\n",
        " 'gender_M': 0.0,\n",
        " 'marital_M': 1.0,\n",
        " 'marital_S': 0.0,\n",
        " 'race_asian': 0.0,\n",
        " 'race_black': 0.0,\n",
        " 'race_native': 0.0,\n",
        " 'race_white': 1.0,\n",
        " 'reasoncode_10509002.0': 0.0,\n",
        " 'reasoncode_185086009.0': 0.0,\n",
        " 'reasoncode_192127007.0': 0.0,\n",
        " 'reasoncode_195662009.0': 0.0,\n",
        " 'reasoncode_201834006.0': 0.0,\n",
        " 'reasoncode_230265002.0': 0.0,\n",
        " 'reasoncode_233678006.0': 1.0,\n",
        " 'reasoncode_239872002.0': 0.0,\n",
        " 'reasoncode_239873007.0': 0.0,\n",
        " 'reasoncode_24079001.0': 0.0,\n",
        " 'reasoncode_254837009.0': 0.0,\n",
        " 'reasoncode_26929004.0': 0.0,\n",
        " 'reasoncode_301011002.0': 0.0,\n",
        " 'reasoncode_363406005.0': 0.0,\n",
        " 'reasoncode_36971009.0': 0.0,\n",
        " 'reasoncode_38822007.0': 0.0,\n",
        " 'reasoncode_40275004.0': 0.0,\n",
        " 'reasoncode_424132000.0': 0.0,\n",
        " 'reasoncode_43878008.0': 0.0,\n",
        " 'reasoncode_44054006.0': 0.0,\n",
        " 'reasoncode_444814009.0': 0.0,\n",
        " 'reasoncode_55822004.0': 0.0,\n",
        " 'reasoncode_59621000.0': 0.0,\n",
        " 'reasoncode_75498004.0': 0.0,\n",
        " 'reasoncode_87433001.0': 0.0,\n",
        " 'reasoncode_88805009.0': 0.0,\n",
        " 'reasoncode_90560007.0': 0.0}"
      ],
      "execution_count": null,
      "outputs": []
    },
    {
      "cell_type": "code",
      "metadata": {
        "colab": {
          "base_uri": "https://localhost:8080/"
        },
        "id": "aZPN1jFdIQgt",
        "outputId": "bbd140eb-fda7-4c05-a1d1-4697ad7dd2f9"
      },
      "source": [
        "di"
      ],
      "execution_count": null,
      "outputs": [
        {
          "output_type": "execute_result",
          "data": {
            "text/plain": [
              "{'AGE': 18.956164383561642,\n",
              " 'LAT': 42.181642300277424,\n",
              " 'LON': -72.60884222581656,\n",
              " 'ethnicity_hispanic': 0.0,\n",
              " 'ethnicity_nonhispanic': 1.0,\n",
              " 'gender_F': 0.0,\n",
              " 'gender_M': 1.0,\n",
              " 'marital_M': 1.0,\n",
              " 'marital_S': 0.0,\n",
              " 'race_asian': 0.0,\n",
              " 'race_black': 0.0,\n",
              " 'race_native': 0.0,\n",
              " 'race_white': 1.0,\n",
              " 'reasoncode_10509002.0': 1.0,\n",
              " 'reasoncode_185086009.0': 0.0,\n",
              " 'reasoncode_192127007.0': 0.0,\n",
              " 'reasoncode_195662009.0': 0.0,\n",
              " 'reasoncode_201834006.0': 0.0,\n",
              " 'reasoncode_230265002.0': 0.0,\n",
              " 'reasoncode_233678006.0': 0.0,\n",
              " 'reasoncode_239872002.0': 0.0,\n",
              " 'reasoncode_239873007.0': 0.0,\n",
              " 'reasoncode_24079001.0': 0.0,\n",
              " 'reasoncode_254837009.0': 0.0,\n",
              " 'reasoncode_26929004.0': 0.0,\n",
              " 'reasoncode_301011002.0': 0.0,\n",
              " 'reasoncode_363406005.0': 0.0,\n",
              " 'reasoncode_36971009.0': 0.0,\n",
              " 'reasoncode_38822007.0': 0.0,\n",
              " 'reasoncode_40275004.0': 0.0,\n",
              " 'reasoncode_424132000.0': 0.0,\n",
              " 'reasoncode_43878008.0': 0.0,\n",
              " 'reasoncode_44054006.0': 0.0,\n",
              " 'reasoncode_444814009.0': 0.0,\n",
              " 'reasoncode_55822004.0': 0.0,\n",
              " 'reasoncode_59621000.0': 0.0,\n",
              " 'reasoncode_75498004.0': 0.0,\n",
              " 'reasoncode_87433001.0': 0.0,\n",
              " 'reasoncode_88805009.0': 0.0,\n",
              " 'reasoncode_90560007.0': 0.0}"
            ]
          },
          "metadata": {
            "tags": []
          },
          "execution_count": 3
        }
      ]
    },
    {
      "cell_type": "code",
      "metadata": {
        "colab": {
          "base_uri": "https://localhost:8080/"
        },
        "id": "lpGqXw4i0aTZ",
        "outputId": "4ac49615-27bb-4cc3-b014-5a71a8784f76"
      },
      "source": [
        "!pip install flask_ngrok"
      ],
      "execution_count": 7,
      "outputs": [
        {
          "output_type": "stream",
          "text": [
            "Collecting flask_ngrok\n",
            "  Downloading https://files.pythonhosted.org/packages/af/6c/f54cb686ad1129e27d125d182f90f52b32f284e6c8df58c1bae54fa1adbc/flask_ngrok-0.0.25-py3-none-any.whl\n",
            "Requirement already satisfied: Flask>=0.8 in /usr/local/lib/python3.6/dist-packages (from flask_ngrok) (1.1.2)\n",
            "Requirement already satisfied: requests in /usr/local/lib/python3.6/dist-packages (from flask_ngrok) (2.23.0)\n",
            "Requirement already satisfied: Werkzeug>=0.15 in /usr/local/lib/python3.6/dist-packages (from Flask>=0.8->flask_ngrok) (1.0.1)\n",
            "Requirement already satisfied: click>=5.1 in /usr/local/lib/python3.6/dist-packages (from Flask>=0.8->flask_ngrok) (7.1.2)\n",
            "Requirement already satisfied: itsdangerous>=0.24 in /usr/local/lib/python3.6/dist-packages (from Flask>=0.8->flask_ngrok) (1.1.0)\n",
            "Requirement already satisfied: Jinja2>=2.10.1 in /usr/local/lib/python3.6/dist-packages (from Flask>=0.8->flask_ngrok) (2.11.2)\n",
            "Requirement already satisfied: certifi>=2017.4.17 in /usr/local/lib/python3.6/dist-packages (from requests->flask_ngrok) (2020.11.8)\n",
            "Requirement already satisfied: idna<3,>=2.5 in /usr/local/lib/python3.6/dist-packages (from requests->flask_ngrok) (2.10)\n",
            "Requirement already satisfied: urllib3!=1.25.0,!=1.25.1,<1.26,>=1.21.1 in /usr/local/lib/python3.6/dist-packages (from requests->flask_ngrok) (1.24.3)\n",
            "Requirement already satisfied: chardet<4,>=3.0.2 in /usr/local/lib/python3.6/dist-packages (from requests->flask_ngrok) (3.0.4)\n",
            "Requirement already satisfied: MarkupSafe>=0.23 in /usr/local/lib/python3.6/dist-packages (from Jinja2>=2.10.1->Flask>=0.8->flask_ngrok) (1.1.1)\n",
            "Installing collected packages: flask-ngrok\n",
            "Successfully installed flask-ngrok-0.0.25\n"
          ],
          "name": "stdout"
        }
      ]
    },
    {
      "cell_type": "code",
      "metadata": {
        "colab": {
          "base_uri": "https://localhost:8080/"
        },
        "id": "2jSqjbRQ1mnZ",
        "outputId": "97b1fe20-ea26-443b-8d71-d8bd847ed200"
      },
      "source": [
        "!pip install pyngrok"
      ],
      "execution_count": 5,
      "outputs": [
        {
          "output_type": "stream",
          "text": [
            "Requirement already satisfied: pyngrok in /usr/local/lib/python3.6/dist-packages (5.0.0)\n",
            "Requirement already satisfied: PyYAML in /usr/local/lib/python3.6/dist-packages (from pyngrok) (3.13)\n"
          ],
          "name": "stdout"
        }
      ]
    },
    {
      "cell_type": "code",
      "metadata": {
        "id": "vgC4HDuk928w",
        "outputId": "520b1098-6ec2-4831-bbb5-0d848c37c240",
        "colab": {
          "base_uri": "https://localhost:8080/"
        }
      },
      "source": [
        "from google.colab import drive\n",
        "drive.mount('/content/gdrive')\n",
        "\n",
        "path = F\"/content/gdrive/My Drive/OPTUM_MODEL\" "
      ],
      "execution_count": 12,
      "outputs": [
        {
          "output_type": "stream",
          "text": [
            "Mounted at /content/gdrive\n"
          ],
          "name": "stdout"
        }
      ]
    },
    {
      "cell_type": "code",
      "metadata": {
        "colab": {
          "base_uri": "https://localhost:8080/"
        },
        "id": "YsQNHnGBzbly",
        "outputId": "fbae29b4-6123-47f0-bcf4-50f36a251224"
      },
      "source": [
        "import pickle\n",
        "from sklearn.svm import SVR\n",
        "from flask_ngrok import run_with_ngrok\n",
        "from sklearn.pipeline import make_pipeline\n",
        "from sklearn.preprocessing import StandardScaler\n",
        "from sklearn.ensemble import RandomForestClassifier\n",
        "from sklearn.ensemble import RandomForestRegressor\n",
        "import numpy as np\n",
        "from flask import Flask, jsonify, request\n",
        "import pickle\n",
        "import pandas as pd\n",
        "\n",
        "app = Flask(__name__)\n",
        "run_with_ngrok(app)\n",
        "\n",
        "\n",
        "#health care cost and payer cost prediction\n",
        "def predict_cost(model, dicti):\n",
        " di = {'AGE': 0, 'LAT': 0, 'LON': 0, 'ethnicity_hispanic': 0.0, 'ethnicity_nonhispanic': 0.0, 'gender_F': 0.0,\n",
        "       'gender_M': 0.0, 'marital_M': 0.0, 'marital_S': 0.0, 'race_asian': 0.0,\n",
        "       'race_black': 0.0, 'race_native': 0.0, 'race_white': 0.0, 'reasoncode_10509002.0': 0.0,\n",
        "       'reasoncode_185086009.0': 0.0, 'reasoncode_192127007.0': 0.0, 'reasoncode_195662009.0': 0.0,\n",
        "       'reasoncode_201834006.0': 0.0, 'reasoncode_230265002.0': 0.0, 'reasoncode_233678006.0': 0.0,\n",
        "       'reasoncode_239872002.0': 0.0, 'reasoncode_239873007.0': 0.0, 'reasoncode_24079001.0': 0.0,\n",
        "       'reasoncode_254837009.0': 0.0, 'reasoncode_26929004.0': 0.0, 'reasoncode_301011002.0': 0.0,\n",
        "       'reasoncode_363406005.0': 0.0, 'reasoncode_36971009.0': 0.0, 'reasoncode_38822007.0': 0.0,\n",
        "       'reasoncode_40275004.0': 0.0, 'reasoncode_424132000.0': 0.0, 'reasoncode_43878008.0': 0.0,\n",
        "       'reasoncode_44054006.0': 0.0, 'reasoncode_444814009.0': 0.0, 'reasoncode_55822004.0': 0.0,\n",
        "       'reasoncode_59621000.0': 0.0, 'reasoncode_75498004.0': 0.0, 'reasoncode_87433001.0': 0.0,\n",
        "       'reasoncode_88805009.0': 0.0, 'reasoncode_90560007.0': 0.0}\n",
        " # df=pd.DataFrame(di)\n",
        " di['AGE'] = (dicti['AGE'])\n",
        " di['LAT'] = (dicti['LAT'])\n",
        " di['LON'] = (dicti['LON'])\n",
        " di['ethnicity_' + dicti['ethnicity']] = 1.0\n",
        " di['gender_' + dicti['gender']] = 1.0\n",
        " di['marital_' + dicti['marital']] = 1.0\n",
        " di['race_' + dicti['race']] = 1.0\n",
        " di['reasoncode_' + dicti['reasoncode'] + '.0'] = 1.0\n",
        " return model.predict(pd.DataFrame(di, index=[0]))[0]\n",
        "\n",
        "\n",
        "\n",
        "#prediction of careplan\n",
        "def predict_careplan(model, dicti):\n",
        "  test_X=pd.read_csv(\"/content/gdrive/MyDrive/OPTUM_MODEL/test_X.csv\",index_col=False)\n",
        "  test_X = test_X.drop(test_X.columns[0], axis=1)\n",
        "  test_X.loc[len(test_X)]=0\n",
        "  test_X[\"LAT\"].loc[len(test_X)-1]=float(dicti[\"LAT\"])\n",
        "  test_X[\"LON\"].loc[len(test_X)-1]=float(dicti[\"LON\"])\n",
        "  test_X['ethnicity_'+dicti['ethnicity']].loc[len(test_X)-1]=1.0\n",
        "  test_X['gender_'+dicti['gender']].loc[len(test_X)-1]=1.0\n",
        "  test_X['marital_'+dicti['marital']].loc[len(test_X)-1]=1.0\n",
        "  test_X['race_'+dicti['race']].loc[len(test_X)-1]=1.0\n",
        "  test_X['reasoncode_'+dicti['reasoncode']+'.0'].loc[len(test_X)-1]=1.0\n",
        "  return model.predict(test_X[len(test_X)-1:len(test_X)])[0]\n",
        "\n",
        "\n",
        "cdd=['Respiratory therapy', 'Wound care', 'Physical therapy procedure',\n",
        "       'Urinary tract infection care', 'Fracture care',\n",
        "       'Routine antenatal care', 'Diabetes self management plan',\n",
        "       'Lifestyle education regarding hypertension',\n",
        "       'Musculoskeletal care', 'Asthma self management',\n",
        "       'Head injury rehabilitation',\n",
        "       'Hyperlipidemia clinical management plan', 'Skin condition care',\n",
        "       'Burn care', 'Care plan (record artifact)', 'Cancer care plan',\n",
        "       'Chronic obstructive pulmonary disease clinical management plan',\n",
        "       'Mental health care plan',\n",
        "       'Overactivity/inattention behavior management',\n",
        "       'Demential management', 'Cancer care plan',\n",
        "       'Major surgery care management', 'Terminal care',\n",
        "       'Heart failure self management plan',\n",
        "       'Spinal cord injury rehabilitation', 'Care Plan',\n",
        "       'Psychiatry care plan',\n",
        "       'Major depressive disorder clinical management plan']\n",
        "\n",
        "cid=[       53950000,       225358003,        91251008, 869761000000107,\n",
        "             385691007,       134435003,       698360004,       443402002,\n",
        "             408869004,       699728000,        47387005,       736285004,\n",
        "             711282006,       133901003,       734163000,       736252007,\n",
        "             412776001,       718347000,       386522008,       386257007,\n",
        "             395082007, 781831000000109,       182964004,       735984001,\n",
        "              75162002,       734163000,       736254008,       737434004]\n",
        "\n",
        "@app.route('/', methods=['POST','GET'])\n",
        "def processRequest():\n",
        "    type = request.args.get('type')\n",
        "    if type == 'careplan':\n",
        "        di1=request.json\n",
        "        pickle_off = open(\"/content/gdrive/MyDrive/OPTUM_MODEL/predict_careplan.pkl\", \"rb\")\n",
        "        model = pickle.load(pickle_off)\n",
        "        v = predict_careplan(model, di1)\n",
        "        retv=''\n",
        "        df_codes=df=pd.read_csv('/content/gdrive/MyDrive/OPTUM_MODEL/code.csv')\n",
        "        print(v)\n",
        "        for i in range(len(df_codes[\"CODE\"])):\n",
        "            if df_codes[\"CODE\"][i] == v:\n",
        "                retv=df_codes[\"DESCRIPTION\"][i]\n",
        "        return retv\n",
        "    if type == 'payer':\n",
        "        di1=request.json\n",
        "        pickle_off = open(\"/content/gdrive/MyDrive/OPTUM_MODEL/predict_payer.pkl\", \"rb\")\n",
        "        model = pickle.load(pickle_off)\n",
        "        v = predict_cost(model, di1)\n",
        "        return str(v)\n",
        "    if type == 'cost':\n",
        "        di1=request.json\n",
        "        pickle_off = open(\"/content/gdrive/MyDrive/OPTUM_MODEL/predict_cost.pkl\", \"rb\")\n",
        "        model = pickle.load(pickle_off)\n",
        "        v = predict_cost(model, di1)\n",
        "        return str(v)\n",
        "    return \"null\"\n",
        "\n",
        "if __name__ == '__main__':\n",
        "     app.run()\n",
        "\n"
      ],
      "execution_count": null,
      "outputs": [
        {
          "output_type": "stream",
          "text": [
            " * Serving Flask app \"__main__\" (lazy loading)\n",
            " * Environment: production\n",
            "\u001b[31m   WARNING: This is a development server. Do not use it in a production deployment.\u001b[0m\n",
            "\u001b[2m   Use a production WSGI server instead.\u001b[0m\n",
            " * Debug mode: off\n"
          ],
          "name": "stdout"
        },
        {
          "output_type": "stream",
          "text": [
            " * Running on http://127.0.0.1:5000/ (Press CTRL+C to quit)\n"
          ],
          "name": "stderr"
        },
        {
          "output_type": "stream",
          "text": [
            " * Running on http://cca096921229.ngrok.io\n",
            " * Traffic stats available on http://127.0.0.1:4040\n"
          ],
          "name": "stdout"
        },
        {
          "output_type": "stream",
          "text": [
            "/usr/local/lib/python3.6/dist-packages/pandas/core/indexing.py:670: SettingWithCopyWarning: \n",
            "A value is trying to be set on a copy of a slice from a DataFrame\n",
            "\n",
            "See the caveats in the documentation: https://pandas.pydata.org/pandas-docs/stable/user_guide/indexing.html#returning-a-view-versus-a-copy\n",
            "  iloc._setitem_with_indexer(indexer, value)\n",
            "127.0.0.1 - - [24/Nov/2020 06:39:11] \"\u001b[37mPOST /?type=careplan HTTP/1.1\u001b[0m\" 200 -\n"
          ],
          "name": "stderr"
        },
        {
          "output_type": "stream",
          "text": [
            "53950000\n"
          ],
          "name": "stdout"
        },
        {
          "output_type": "stream",
          "text": [
            "/usr/local/lib/python3.6/dist-packages/pandas/core/indexing.py:670: SettingWithCopyWarning: \n",
            "A value is trying to be set on a copy of a slice from a DataFrame\n",
            "\n",
            "See the caveats in the documentation: https://pandas.pydata.org/pandas-docs/stable/user_guide/indexing.html#returning-a-view-versus-a-copy\n",
            "  iloc._setitem_with_indexer(indexer, value)\n",
            "127.0.0.1 - - [24/Nov/2020 06:39:15] \"\u001b[37mPOST /?type=careplan HTTP/1.1\u001b[0m\" 200 -\n"
          ],
          "name": "stderr"
        },
        {
          "output_type": "stream",
          "text": [
            "225358003\n"
          ],
          "name": "stdout"
        },
        {
          "output_type": "stream",
          "text": [
            "/usr/local/lib/python3.6/dist-packages/pandas/core/indexing.py:670: SettingWithCopyWarning: \n",
            "A value is trying to be set on a copy of a slice from a DataFrame\n",
            "\n",
            "See the caveats in the documentation: https://pandas.pydata.org/pandas-docs/stable/user_guide/indexing.html#returning-a-view-versus-a-copy\n",
            "  iloc._setitem_with_indexer(indexer, value)\n",
            "127.0.0.1 - - [24/Nov/2020 06:39:19] \"\u001b[37mPOST /?type=careplan HTTP/1.1\u001b[0m\" 200 -\n"
          ],
          "name": "stderr"
        },
        {
          "output_type": "stream",
          "text": [
            "91251008\n"
          ],
          "name": "stdout"
        },
        {
          "output_type": "stream",
          "text": [
            "/usr/local/lib/python3.6/dist-packages/pandas/core/indexing.py:670: SettingWithCopyWarning: \n",
            "A value is trying to be set on a copy of a slice from a DataFrame\n",
            "\n",
            "See the caveats in the documentation: https://pandas.pydata.org/pandas-docs/stable/user_guide/indexing.html#returning-a-view-versus-a-copy\n",
            "  iloc._setitem_with_indexer(indexer, value)\n",
            "127.0.0.1 - - [24/Nov/2020 06:39:23] \"\u001b[37mPOST /?type=careplan HTTP/1.1\u001b[0m\" 200 -\n"
          ],
          "name": "stderr"
        },
        {
          "output_type": "stream",
          "text": [
            "711282006\n"
          ],
          "name": "stdout"
        },
        {
          "output_type": "stream",
          "text": [
            "/usr/local/lib/python3.6/dist-packages/pandas/core/indexing.py:670: SettingWithCopyWarning: \n",
            "A value is trying to be set on a copy of a slice from a DataFrame\n",
            "\n",
            "See the caveats in the documentation: https://pandas.pydata.org/pandas-docs/stable/user_guide/indexing.html#returning-a-view-versus-a-copy\n",
            "  iloc._setitem_with_indexer(indexer, value)\n",
            "127.0.0.1 - - [24/Nov/2020 06:39:28] \"\u001b[37mPOST /?type=careplan HTTP/1.1\u001b[0m\" 200 -\n"
          ],
          "name": "stderr"
        },
        {
          "output_type": "stream",
          "text": [
            "443402002\n"
          ],
          "name": "stdout"
        },
        {
          "output_type": "stream",
          "text": [
            "127.0.0.1 - - [24/Nov/2020 06:40:03] \"\u001b[37mPOST /?type=payer HTTP/1.1\u001b[0m\" 200 -\n",
            "127.0.0.1 - - [24/Nov/2020 06:40:14] \"\u001b[37mPOST /?type=payer HTTP/1.1\u001b[0m\" 200 -\n",
            "127.0.0.1 - - [24/Nov/2020 06:40:18] \"\u001b[37mPOST /?type=payer HTTP/1.1\u001b[0m\" 200 -\n",
            "127.0.0.1 - - [24/Nov/2020 06:40:23] \"\u001b[37mPOST /?type=payer HTTP/1.1\u001b[0m\" 200 -\n",
            "127.0.0.1 - - [24/Nov/2020 06:40:31] \"\u001b[37mPOST /?type=payer HTTP/1.1\u001b[0m\" 200 -\n",
            "127.0.0.1 - - [24/Nov/2020 06:40:38] \"\u001b[37mPOST /?type=payer HTTP/1.1\u001b[0m\" 200 -\n",
            "127.0.0.1 - - [24/Nov/2020 06:40:46] \"\u001b[37mPOST /?type=payer HTTP/1.1\u001b[0m\" 200 -\n",
            "127.0.0.1 - - [24/Nov/2020 06:40:54] \"\u001b[37mPOST /?type=payer HTTP/1.1\u001b[0m\" 200 -\n",
            "127.0.0.1 - - [24/Nov/2020 06:40:57] \"\u001b[37mPOST /?type=payer HTTP/1.1\u001b[0m\" 200 -\n",
            "127.0.0.1 - - [24/Nov/2020 06:41:04] \"\u001b[37mPOST /?type=payer HTTP/1.1\u001b[0m\" 200 -\n",
            "127.0.0.1 - - [24/Nov/2020 06:41:07] \"\u001b[37mPOST /?type=payer HTTP/1.1\u001b[0m\" 200 -\n",
            "127.0.0.1 - - [24/Nov/2020 06:41:15] \"\u001b[37mPOST /?type=payer HTTP/1.1\u001b[0m\" 200 -\n",
            "127.0.0.1 - - [24/Nov/2020 06:41:20] \"\u001b[37mPOST /?type=payer HTTP/1.1\u001b[0m\" 200 -\n",
            "127.0.0.1 - - [24/Nov/2020 06:41:24] \"\u001b[37mPOST /?type=payer HTTP/1.1\u001b[0m\" 200 -\n",
            "127.0.0.1 - - [24/Nov/2020 07:02:17] \"\u001b[37mPOST /?type=payer HTTP/1.1\u001b[0m\" 200 -\n",
            "127.0.0.1 - - [24/Nov/2020 07:02:23] \"\u001b[37mPOST /?type=payer HTTP/1.1\u001b[0m\" 200 -\n",
            "127.0.0.1 - - [24/Nov/2020 07:02:27] \"\u001b[37mPOST /?type=payer HTTP/1.1\u001b[0m\" 200 -\n",
            "127.0.0.1 - - [24/Nov/2020 07:02:31] \"\u001b[37mPOST /?type=payer HTTP/1.1\u001b[0m\" 200 -\n",
            "127.0.0.1 - - [24/Nov/2020 07:02:38] \"\u001b[37mPOST /?type=payer HTTP/1.1\u001b[0m\" 200 -\n",
            "127.0.0.1 - - [24/Nov/2020 07:02:42] \"\u001b[37mPOST /?type=payer HTTP/1.1\u001b[0m\" 200 -\n",
            "127.0.0.1 - - [24/Nov/2020 07:02:50] \"\u001b[37mPOST /?type=payer HTTP/1.1\u001b[0m\" 200 -\n",
            "127.0.0.1 - - [24/Nov/2020 08:55:56] \"\u001b[37mPOST /?type=payer HTTP/1.1\u001b[0m\" 200 -\n",
            "/usr/local/lib/python3.6/dist-packages/pandas/core/indexing.py:670: SettingWithCopyWarning: \n",
            "A value is trying to be set on a copy of a slice from a DataFrame\n",
            "\n",
            "See the caveats in the documentation: https://pandas.pydata.org/pandas-docs/stable/user_guide/indexing.html#returning-a-view-versus-a-copy\n",
            "  iloc._setitem_with_indexer(indexer, value)\n",
            "127.0.0.1 - - [24/Nov/2020 08:58:06] \"\u001b[37mPOST /?type=careplan HTTP/1.1\u001b[0m\" 200 -\n"
          ],
          "name": "stderr"
        },
        {
          "output_type": "stream",
          "text": [
            "711282006\n"
          ],
          "name": "stdout"
        },
        {
          "output_type": "stream",
          "text": [
            "127.0.0.1 - - [24/Nov/2020 08:58:45] \"\u001b[37mPOST /?type=payer HTTP/1.1\u001b[0m\" 200 -\n",
            "127.0.0.1 - - [24/Nov/2020 09:06:03] \"\u001b[37mPOST /?type=payer HTTP/1.1\u001b[0m\" 200 -\n",
            "127.0.0.1 - - [24/Nov/2020 09:06:22] \"\u001b[37mPOST /?type=payer HTTP/1.1\u001b[0m\" 200 -\n",
            "127.0.0.1 - - [24/Nov/2020 09:06:28] \"\u001b[37mPOST /?type=payer HTTP/1.1\u001b[0m\" 200 -\n",
            "127.0.0.1 - - [24/Nov/2020 09:06:34] \"\u001b[37mPOST /?type=payer HTTP/1.1\u001b[0m\" 200 -\n",
            "127.0.0.1 - - [24/Nov/2020 09:08:10] \"\u001b[37mPOST /?type=payer HTTP/1.1\u001b[0m\" 200 -\n",
            "127.0.0.1 - - [24/Nov/2020 09:08:23] \"\u001b[37mPOST /?type=payer HTTP/1.1\u001b[0m\" 200 -\n",
            "127.0.0.1 - - [24/Nov/2020 09:09:14] \"\u001b[37mPOST /?type=payer HTTP/1.1\u001b[0m\" 200 -\n",
            "127.0.0.1 - - [24/Nov/2020 09:09:17] \"\u001b[37mPOST /?type=payer HTTP/1.1\u001b[0m\" 200 -\n",
            "127.0.0.1 - - [24/Nov/2020 09:09:27] \"\u001b[37mPOST /?type=payer HTTP/1.1\u001b[0m\" 200 -\n",
            "/usr/local/lib/python3.6/dist-packages/pandas/core/indexing.py:670: SettingWithCopyWarning: \n",
            "A value is trying to be set on a copy of a slice from a DataFrame\n",
            "\n",
            "See the caveats in the documentation: https://pandas.pydata.org/pandas-docs/stable/user_guide/indexing.html#returning-a-view-versus-a-copy\n",
            "  iloc._setitem_with_indexer(indexer, value)\n",
            "127.0.0.1 - - [24/Nov/2020 10:52:43] \"\u001b[37mPOST /?type=careplan HTTP/1.1\u001b[0m\" 200 -\n"
          ],
          "name": "stderr"
        },
        {
          "output_type": "stream",
          "text": [
            "698360004\n"
          ],
          "name": "stdout"
        },
        {
          "output_type": "stream",
          "text": [
            "/usr/local/lib/python3.6/dist-packages/pandas/core/indexing.py:670: SettingWithCopyWarning: \n",
            "A value is trying to be set on a copy of a slice from a DataFrame\n",
            "\n",
            "See the caveats in the documentation: https://pandas.pydata.org/pandas-docs/stable/user_guide/indexing.html#returning-a-view-versus-a-copy\n",
            "  iloc._setitem_with_indexer(indexer, value)\n",
            "127.0.0.1 - - [24/Nov/2020 10:53:38] \"\u001b[37mPOST /?type=careplan HTTP/1.1\u001b[0m\" 200 -\n"
          ],
          "name": "stderr"
        },
        {
          "output_type": "stream",
          "text": [
            "134435003\n"
          ],
          "name": "stdout"
        },
        {
          "output_type": "stream",
          "text": [
            "127.0.0.1 - - [24/Nov/2020 10:54:11] \"\u001b[37mPOST /?type=payer HTTP/1.1\u001b[0m\" 200 -\n"
          ],
          "name": "stderr"
        }
      ]
    },
    {
      "cell_type": "code",
      "metadata": {
        "colab": {
          "base_uri": "https://localhost:8080/"
        },
        "id": "nBkD9IIVzg8o",
        "outputId": "5af81e4d-e3e0-4e60-8d08-16d9191ec0b6"
      },
      "source": [
        "di={'AGE': \"18.956164383561642\",\n",
        "'LAT': \"42.181642300277424\",\n",
        " 'LON': \"-72.60884222581656',\n",
        " 'ethnicity': 'nonhispanic',\n",
        " 'gender': 'M',\n",
        " 'marital': 'M',\n",
        " 'race': 'white',\n",
        " 'reasoncode': '10509002',\n",
        " }\n",
        "pickle_off = open(\"/content/predict_payer (1).pkl\", \"rb\")\n",
        "model = pickle.load(pickle_off)\n",
        "v = predict_cost(model, di)\n",
        "print(v)"
      ],
      "execution_count": null,
      "outputs": [
        {
          "output_type": "stream",
          "text": [
            "3.652069677660423\n"
          ],
          "name": "stdout"
        }
      ]
    },
    {
      "cell_type": "code",
      "metadata": {
        "colab": {
          "base_uri": "https://localhost:8080/"
        },
        "id": "EvoiXJIINQnq",
        "outputId": "27f708dd-ac8f-4911-9eb5-4d4add4ea42b"
      },
      "source": [
        "import pandas\n",
        "df=pd.read_csv('/content/reason.csv')\n",
        "df[\"REASONDESCRIPTION\"]\n"
      ],
      "execution_count": null,
      "outputs": [
        {
          "output_type": "execute_result",
          "data": {
            "text/plain": [
              "0                           Acute bronchitis (disorder)\n",
              "1                                    Laceration of foot\n",
              "2                                       Sprain of wrist\n",
              "3                                              Cystitis\n",
              "4                                   Fracture of forearm\n",
              "                            ...                        \n",
              "58                 Injury of anterior cruciate ligament\n",
              "59                                       Pyelonephritis\n",
              "60                        Primary fibromyalgia syndrome\n",
              "61                 Primary maligNULLt neoplasm of colon\n",
              "62    Primary small cell maligNULLt neoplasm of lung...\n",
              "Name: REASONDESCRIPTION, Length: 63, dtype: object"
            ]
          },
          "metadata": {
            "tags": []
          },
          "execution_count": 19
        }
      ]
    }
  ]
}